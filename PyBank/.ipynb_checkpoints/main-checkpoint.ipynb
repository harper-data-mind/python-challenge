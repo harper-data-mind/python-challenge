{
 "cells": [
  {
   "cell_type": "code",
   "execution_count": 22,
   "metadata": {},
   "outputs": [],
   "source": [
    "import csv"
   ]
  },
  {
   "cell_type": "code",
   "execution_count": 23,
   "metadata": {},
   "outputs": [],
   "source": [
    "filepath = \"./Resources/budget_data.csv\"\n",
    "months_count = 0\n",
    "net_change = 0.0\n",
    "net_prof_loss = 0.0\n",
    "great_profit = 0\n",
    "profit_date = ''\n",
    "great_loss = 0\n",
    "loss_date = ''\n",
    "i = 0"
   ]
  },
  {
   "cell_type": "code",
   "execution_count": 24,
   "metadata": {},
   "outputs": [
    {
     "name": "stdout",
     "output_type": "stream",
     "text": [
      "86\n",
      "38382578.0\n",
      "-2315.12\n",
      "1926159\n",
      "Feb-2012\n",
      "-2196167\n",
      "Sep-2013\n",
      "Final Analysis\n",
      "----------------------------\n",
      "Total Months: 86\n",
      "Total: $38382578.0\n",
      "Average Change: $-2315.12\n",
      "Greatest Increase In Profits: Feb-2012 ($1926159)\n",
      "Greatest Decrease In Profits: Sep-2013 ($-2196167)\n"
     ]
    }
   ],
   "source": [
    "with open(filepath, newline='') as budget_data:\n",
    "    csvreader = csv.reader(budget_data, delimiter=\",\")\n",
    "    header = next(csvreader, None)\n",
    "    data = list(csvreader)\n",
    "    \n",
    "    months_count = len(data)\n",
    "    print(months_count)\n",
    "    \n",
    "    for row in data:\n",
    "        net_prof_loss += (int(row[1]))\n",
    "    print(net_prof_loss)\n",
    "    \n",
    "    \n",
    "    while i < len(data)-1:\n",
    "        change = (float(data[i+1][1]) - float(data[i][1]))\n",
    "        net_change += change\n",
    "        if change > great_profit:\n",
    "            great_profit = int(change)\n",
    "            profit_date = data[i+1][0]\n",
    "        if change < great_loss:\n",
    "            great_loss = int(change)\n",
    "            loss_date = data[i+1][0]\n",
    "        i += 1\n",
    "    \n",
    "    avg_net = round(net_change/(months_count-1),2)\n",
    "    \n",
    "    line = \"-\" * 28\n",
    "    output = f\"\"\"Final Analysis\\n{line}\\nTotal Months: {months_count}\\nTotal: ${net_prof_loss}\\nAverage Change: ${avg_net}\\nGreatest Increase In Profits: {profit_date} (${great_profit})\\nGreatest Decrease In Profits: {loss_date} (${great_loss})\"\"\"\n",
    "    print(output)"
   ]
  },
  {
   "cell_type": "code",
   "execution_count": null,
   "metadata": {},
   "outputs": [],
   "source": []
  },
  {
   "cell_type": "code",
   "execution_count": null,
   "metadata": {},
   "outputs": [],
   "source": []
  }
 ],
 "metadata": {
  "kernelspec": {
   "display_name": "Python 3",
   "language": "python",
   "name": "python3"
  },
  "language_info": {
   "codemirror_mode": {
    "name": "ipython",
    "version": 3
   },
   "file_extension": ".py",
   "mimetype": "text/x-python",
   "name": "python",
   "nbconvert_exporter": "python",
   "pygments_lexer": "ipython3",
   "version": "3.7.1"
  }
 },
 "nbformat": 4,
 "nbformat_minor": 2
}
