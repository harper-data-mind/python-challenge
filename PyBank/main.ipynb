{
 "cells": [
  {
   "cell_type": "code",
   "execution_count": 1,
   "metadata": {},
   "outputs": [],
   "source": [
    "import csv\n",
    "import os"
   ]
  },
  {
   "cell_type": "code",
   "execution_count": 2,
   "metadata": {},
   "outputs": [],
   "source": [
    "input_file = os.path.join('.','Resources','budget_data.csv')\n",
    "output_file = os.path.join('/', 'Resources','analysis.txt')\n",
    "months_count = 0\n",
    "net_change = 0.0\n",
    "net_prof_loss = 0.0\n",
    "great_profit = 0\n",
    "profit_date = ''\n",
    "great_loss = 0\n",
    "loss_date = ''\n",
    "i = 0"
   ]
  },
  {
   "cell_type": "code",
   "execution_count": 3,
   "metadata": {},
   "outputs": [
    {
     "ename": "FileNotFoundError",
     "evalue": "[Errno 2] No such file or directory: '/Resources/analysis.txt'",
     "output_type": "error",
     "traceback": [
      "\u001b[0;31m---------------------------------------------------------------------------\u001b[0m",
      "\u001b[0;31mFileNotFoundError\u001b[0m                         Traceback (most recent call last)",
      "\u001b[0;32m<ipython-input-3-56751017efff>\u001b[0m in \u001b[0;36m<module>\u001b[0;34m\u001b[0m\n\u001b[1;32m     30\u001b[0m Greatest Decrease In Profits: {loss_date} (${great_loss})\"\"\"\n\u001b[1;32m     31\u001b[0m \u001b[0;34m\u001b[0m\u001b[0m\n\u001b[0;32m---> 32\u001b[0;31m \u001b[0;32mwith\u001b[0m \u001b[0mopen\u001b[0m\u001b[0;34m(\u001b[0m\u001b[0moutput_file\u001b[0m\u001b[0;34m,\u001b[0m \u001b[0mmode\u001b[0m\u001b[0;34m=\u001b[0m\u001b[0;34m'w+'\u001b[0m\u001b[0;34m)\u001b[0m \u001b[0;32mas\u001b[0m \u001b[0manalysis\u001b[0m\u001b[0;34m:\u001b[0m\u001b[0;34m\u001b[0m\u001b[0;34m\u001b[0m\u001b[0m\n\u001b[0m\u001b[1;32m     33\u001b[0m     \u001b[0manalysis\u001b[0m\u001b[0;34m.\u001b[0m\u001b[0mwrite\u001b[0m\u001b[0;34m(\u001b[0m\u001b[0manalysis_output\u001b[0m\u001b[0;34m)\u001b[0m\u001b[0;34m\u001b[0m\u001b[0;34m\u001b[0m\u001b[0m\n",
      "\u001b[0;31mFileNotFoundError\u001b[0m: [Errno 2] No such file or directory: '/Resources/analysis.txt'"
     ]
    }
   ],
   "source": [
    "with open(input_file, newline='') as budget_data:\n",
    "    csvreader = csv.reader(budget_data, delimiter=\",\")\n",
    "    header = next(csvreader, None)\n",
    "    data = list(csvreader)\n",
    "    \n",
    "    months_count = len(data)\n",
    "    \n",
    "    for row in data:\n",
    "        net_prof_loss += (int(row[1]))\n",
    "    \n",
    "    while i < len(data)-1:\n",
    "        change = (float(data[i+1][1]) - float(data[i][1]))\n",
    "        net_change += change\n",
    "        if change > great_profit:\n",
    "            great_profit = int(change)\n",
    "            profit_date = data[i+1][0]\n",
    "        if change < great_loss:\n",
    "            great_loss = int(change)\n",
    "            loss_date = data[i+1][0]\n",
    "        i += 1\n",
    "    \n",
    "avg_net = round(net_change/(months_count-1),2)    \n",
    "line = \"-\" * 28\n",
    "analysis_output = f\"\"\"Final Analysis\n",
    "{line}\n",
    "Total Months: {months_count}\n",
    "Total: ${net_prof_loss}\n",
    "Average Change: ${avg_net}\n",
    "Greatest Increase In Profits: {profit_date} (${great_profit})\n",
    "Greatest Decrease In Profits: {loss_date} (${great_loss})\"\"\"\n",
    "\n",
    "with open(output_file, mode='w+') as analysis:\n",
    "    analysis.write(analysis_output)"
   ]
  },
  {
   "cell_type": "code",
   "execution_count": null,
   "metadata": {},
   "outputs": [],
   "source": []
  },
  {
   "cell_type": "code",
   "execution_count": null,
   "metadata": {},
   "outputs": [],
   "source": []
  }
 ],
 "metadata": {
  "kernelspec": {
   "display_name": "Python 3",
   "language": "python",
   "name": "python3"
  },
  "language_info": {
   "codemirror_mode": {
    "name": "ipython",
    "version": 3
   },
   "file_extension": ".py",
   "mimetype": "text/x-python",
   "name": "python",
   "nbconvert_exporter": "python",
   "pygments_lexer": "ipython3",
   "version": "3.7.1"
  }
 },
 "nbformat": 4,
 "nbformat_minor": 2
}
