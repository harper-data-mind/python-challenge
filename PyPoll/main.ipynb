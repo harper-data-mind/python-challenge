{
 "cells": [
  {
   "cell_type": "code",
   "execution_count": 1,
   "metadata": {},
   "outputs": [],
   "source": [
    "import csv\n",
    "import os"
   ]
  },
  {
   "cell_type": "code",
   "execution_count": 2,
   "metadata": {},
   "outputs": [],
   "source": [
    "input_file = os.path.join('.','Resources','election_data.csv')\n",
    "output_file = os.path.join('.','Resources','analysis.txt')\n",
    "total_vote = 0\n",
    "khan_count = 0\n",
    "kahn_pct = 0.0\n",
    "correy_count = 0\n",
    "correy_pct = 0.0\n",
    "li_count = 0\n",
    "li_pct = 0.0\n",
    "otooley_count = 0\n",
    "otooley_pct = 0.0\n",
    "winner = \"\"\n",
    "analysis_output = \"\""
   ]
  },
  {
   "cell_type": "code",
   "execution_count": 3,
   "metadata": {},
   "outputs": [
    {
     "name": "stdout",
     "output_type": "stream",
     "text": [
      "Election Results\n",
      "-------------------------\n",
      "Total Votes: 3521001\n",
      "-------------------------\n",
      "Khan: 63.000% (2218231)\n",
      "Correy: 20.000% (704200)\n",
      "Li: 14.000% (492940)\n",
      "O'Tooley: 3.000% (105630)\n",
      "-------------------------\n",
      "Winner: Khan\n",
      "-------------------------\n"
     ]
    }
   ],
   "source": [
    "with open(input_file, newline='') as election_data:\n",
    "    csvreader = csv.reader(election_data, delimiter=\",\")\n",
    "    next(csvreader, None)\n",
    "    data = list(csvreader)\n",
    "    #Vote, County, Candidate\n",
    "    #print(data[0])\n",
    "    total_vote = len(data)\n",
    "    \n",
    "    for row in data: \n",
    "        if row[2] == 'Khan':\n",
    "            khan_count += 1\n",
    "        elif row[2] == 'Correy':\n",
    "            correy_count += 1\n",
    "        elif row[2] == 'Li':\n",
    "            li_count += 1\n",
    "        else:\n",
    "            otooley_count += 1\n",
    "\n",
    "if khan_count > correy_count:\n",
    "    if khan_count > li_count:\n",
    "        if khan_count >otooley_count:\n",
    "            winner = \"Khan\"\n",
    "elif correy_count > li_count:\n",
    "    if correy_count > otooley_count:\n",
    "        winner = \"Correy\"\n",
    "elif li_count > otooley_count:\n",
    "    winner = \"Li\"\n",
    "else:\n",
    "    winner = \"O'Tooley\"\n",
    "    \n",
    "khan_pct = format((khan_count/total_vote)*100,'.3f')\n",
    "correy_pct = format((correy_count/total_vote)*100,'.3f')\n",
    "li_pct = format((li_count/total_vote)*100,'.3f')\n",
    "otooley_pct = format((otooley_count/total_vote)*100,'.3f')\n",
    "line = '-' * 25\n",
    "\n",
    "analysis_output = f\"\"\"Election Results\n",
    "{line}\n",
    "Total Votes: {total_vote}\n",
    "{line}\n",
    "Khan: {khan_pct}% ({khan_count})\n",
    "Correy: {correy_pct}% ({correy_count})\n",
    "Li: {li_pct}% ({li_count})\n",
    "O'Tooley: {otooley_pct}% ({otooley_count})\n",
    "{line}\n",
    "Winner: {winner}\n",
    "{line}\"\"\"\n",
    "\n",
    "print(analysis_output)"
   ]
  },
  {
   "cell_type": "code",
   "execution_count": 4,
   "metadata": {},
   "outputs": [],
   "source": [
    "with open(output_file, mode='w+') as analysis:\n",
    "    analysis.write(analysis_output)"
   ]
  }
 ],
 "metadata": {
  "kernelspec": {
   "display_name": "Python 3",
   "language": "python",
   "name": "python3"
  },
  "language_info": {
   "codemirror_mode": {
    "name": "ipython",
    "version": 3
   },
   "file_extension": ".py",
   "mimetype": "text/x-python",
   "name": "python",
   "nbconvert_exporter": "python",
   "pygments_lexer": "ipython3",
   "version": "3.7.1"
  }
 },
 "nbformat": 4,
 "nbformat_minor": 2
}
